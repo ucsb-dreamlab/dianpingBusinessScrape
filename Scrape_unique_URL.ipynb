{
 "cells": [
  {
   "cell_type": "code",
   "execution_count": 1,
   "metadata": {
    "scrolled": true
   },
   "outputs": [],
   "source": [
    "import requests\n",
    "import re \n",
    "import time\n",
    "from bs4 import BeautifulSoup \n",
    "from fake_useragent import UserAgent\n",
    "import pandas as pd\n",
    "import numpy as np\n",
    "from random import randint\n",
    "import selenium.webdriver"
   ]
  },
  {
   "cell_type": "code",
   "execution_count": 3,
   "metadata": {},
   "outputs": [
    {
     "data": {
      "text/html": [
       "<div>\n",
       "<style scoped>\n",
       "    .dataframe tbody tr th:only-of-type {\n",
       "        vertical-align: middle;\n",
       "    }\n",
       "\n",
       "    .dataframe tbody tr th {\n",
       "        vertical-align: top;\n",
       "    }\n",
       "\n",
       "    .dataframe thead th {\n",
       "        text-align: right;\n",
       "    }\n",
       "</style>\n",
       "<table border=\"1\" class=\"dataframe\">\n",
       "  <thead>\n",
       "    <tr style=\"text-align: right;\">\n",
       "      <th></th>\n",
       "      <th>City</th>\n",
       "      <th>URL</th>\n",
       "    </tr>\n",
       "  </thead>\n",
       "  <tbody>\n",
       "    <tr>\n",
       "      <th>0</th>\n",
       "      <td>Shanghai</td>\n",
       "      <td>www.dianping.com/shanghai/ch75/g34311</td>\n",
       "    </tr>\n",
       "    <tr>\n",
       "      <th>1</th>\n",
       "      <td>Beijing</td>\n",
       "      <td>www.dianping.com/beijing/ch75/g34311</td>\n",
       "    </tr>\n",
       "    <tr>\n",
       "      <th>2</th>\n",
       "      <td>Guangzhou</td>\n",
       "      <td>www.dianping.com/guangzhou/ch75/g34311</td>\n",
       "    </tr>\n",
       "    <tr>\n",
       "      <th>3</th>\n",
       "      <td>Chengdu</td>\n",
       "      <td>www.dianping.com/chengdu/ch75/g34311</td>\n",
       "    </tr>\n",
       "    <tr>\n",
       "      <th>4</th>\n",
       "      <td>Chongqing</td>\n",
       "      <td>www.dianping.com/chongqing/ch75/g34311</td>\n",
       "    </tr>\n",
       "    <tr>\n",
       "      <th>5</th>\n",
       "      <td>Shenzhen</td>\n",
       "      <td>www.dianping.com/shenzhen/ch75/g34311</td>\n",
       "    </tr>\n",
       "    <tr>\n",
       "      <th>6</th>\n",
       "      <td>Tianjin</td>\n",
       "      <td>www.dianping.com/tianjin/ch75/g34311</td>\n",
       "    </tr>\n",
       "    <tr>\n",
       "      <th>7</th>\n",
       "      <td>Wuhan</td>\n",
       "      <td>www.dianping.com/wuhan/ch75/g34311</td>\n",
       "    </tr>\n",
       "    <tr>\n",
       "      <th>8</th>\n",
       "      <td>Xi'an</td>\n",
       "      <td>www.dianping.com/xian/ch75/g34311</td>\n",
       "    </tr>\n",
       "    <tr>\n",
       "      <th>9</th>\n",
       "      <td>Hangzhou</td>\n",
       "      <td>www.dianping.com/hangzhou/ch75/g34311</td>\n",
       "    </tr>\n",
       "  </tbody>\n",
       "</table>\n",
       "</div>"
      ],
      "text/plain": [
       "        City                                     URL\n",
       "0   Shanghai   www.dianping.com/shanghai/ch75/g34311\n",
       "1    Beijing    www.dianping.com/beijing/ch75/g34311\n",
       "2  Guangzhou  www.dianping.com/guangzhou/ch75/g34311\n",
       "3    Chengdu    www.dianping.com/chengdu/ch75/g34311\n",
       "4  Chongqing  www.dianping.com/chongqing/ch75/g34311\n",
       "5   Shenzhen   www.dianping.com/shenzhen/ch75/g34311\n",
       "6    Tianjin    www.dianping.com/tianjin/ch75/g34311\n",
       "7      Wuhan      www.dianping.com/wuhan/ch75/g34311\n",
       "8      Xi'an       www.dianping.com/xian/ch75/g34311\n",
       "9   Hangzhou   www.dianping.com/hangzhou/ch75/g34311"
      ]
     },
     "execution_count": 3,
     "metadata": {},
     "output_type": "execute_result"
    }
   ],
   "source": [
    "city_url = 'https://raw.githubusercontent.com/ucsb-dreamlab/dianpingBusinessScrape/master/big-cities-with-URL%20.csv'\n",
    "city = pd.read_csv(city_url, index_col= 0).reset_index()\n",
    "city.head(10)"
   ]
  },
  {
   "cell_type": "code",
   "execution_count": 10,
   "metadata": {},
   "outputs": [],
   "source": [
    "from selenium.webdriver import ChromeOptions"
   ]
  },
  {
   "cell_type": "markdown",
   "metadata": {},
   "source": [
    "1. https://stackoverflow.com/questions/33225947/can-a-website-detect-when-you-are-using-selenium-with-chromedriver\n",
    "2. https://stackoverflow.com/questions/55501524/how-does-recaptcha-3-know-im-using-selenium-chromedriver/55502835#55502835\n",
    "3. https://stackoverflow.com/questions/53039551/selenium-webdriver-modifying-navigator-webdriver-flag-to-prevent-selenium-detec\n",
    "\n"
   ]
  },
  {
   "cell_type": "code",
   "execution_count": 11,
   "metadata": {},
   "outputs": [],
   "source": [
    "def getHtmlContent(url): \n",
    " UA = UserAgent(verify_ssl = False)  \n",
    " #Retrieve cookies with selenium\n",
    " options = ChromeOptions()\n",
    " #options.add_argument(\"--disable-blink-features=AutomationControlled\")\n",
    " options.add_experimental_option(\"excludeSwitches\", ['enable-automation'])\n",
    " options.add_experimental_option('useAutomationExtension', False)\n",
    " driver = selenium.webdriver.Chrome(chrome_options=options)\n",
    " \n",
    " \n",
    " #driver_option.add_argument(\"--headless\")\n",
    " #print(driver.execute_script(\"return navigator.userAgent;\"))\n",
    " print(\"Scraping from \"+ url)\n",
    " driver.get(url)\n",
    " all_cookies = driver.get_cookies()\n",
    " cookies_dict = {}\n",
    " for cookies in all_cookies:\n",
    "   cookies_dict[cookies['name']] = cookies['value']\n",
    " \n",
    " #Set User Agent in request headers\n",
    " \n",
    " headers = {\n",
    "    \"User-Agent\": UA.random\n",
    "    }\n",
    " #Request HTML with session\n",
    " try:\n",
    "   s = requests.Session()\n",
    "   #r = s.get(url, headers = headers, cookies = {'from-my':'browser'})\n",
    "   r = s.get(url, headers = headers, cookies= cookies_dict)\n",
    "   r.raise_for_status()\n",
    "   if(r.encoding != \"UTF-8\"):\n",
    "      r.encoding = r.apparent_encoding\n",
    "   return r.text\n",
    " except:\n",
    "   return \"Request Error\""
   ]
  },
  {
   "cell_type": "code",
   "execution_count": 15,
   "metadata": {},
   "outputs": [
    {
     "data": {
      "text/plain": [
       "'http://www.dianping.com/guangzhou/ch75/g34311'"
      ]
     },
     "execution_count": 15,
     "metadata": {},
     "output_type": "execute_result"
    }
   ],
   "source": [
    "URL =  \"http://\"+ city['URL'][2] # add \"https\" to avoid schema error \n",
    "URL"
   ]
  },
  {
   "cell_type": "code",
   "execution_count": 16,
   "metadata": {},
   "outputs": [
    {
     "name": "stderr",
     "output_type": "stream",
     "text": [
      "<ipython-input-11-f9d2486382a1>:8: DeprecationWarning: use options instead of chrome_options\n",
      "  driver = selenium.webdriver.Chrome(chrome_options=options)\n"
     ]
    },
    {
     "name": "stdout",
     "output_type": "stream",
     "text": [
      "Scraping from http://www.dianping.com/guangzhou/ch75/g34311\n"
     ]
    }
   ],
   "source": [
    "HTML = getHtmlContent(URL)"
   ]
  },
  {
   "cell_type": "code",
   "execution_count": 17,
   "metadata": {},
   "outputs": [],
   "source": [
    "soup = BeautifulSoup(HTML, \"html.parser\")\n"
   ]
  },
  {
   "cell_type": "code",
   "execution_count": 18,
   "metadata": {},
   "outputs": [],
   "source": [
    "SubURL = []\n",
    "LibName = []\n",
    "for div in soup.find_all(class_ = \"tit\"):\n",
    "    for a in div.find_all('a', href = True):\n",
    "        SubURL.append(a.get('href'))\n",
    "        LibName.append(a.getText().strip())"
   ]
  },
  {
   "cell_type": "markdown",
   "metadata": {},
   "source": [
    "//*[@id=\"shop-all-list\"]/ul/li[1]/div[2]/div[1]/a/h4"
   ]
  },
  {
   "cell_type": "code",
   "execution_count": 19,
   "metadata": {},
   "outputs": [
    {
     "data": {
      "text/html": [
       "<div>\n",
       "<style scoped>\n",
       "    .dataframe tbody tr th:only-of-type {\n",
       "        vertical-align: middle;\n",
       "    }\n",
       "\n",
       "    .dataframe tbody tr th {\n",
       "        vertical-align: top;\n",
       "    }\n",
       "\n",
       "    .dataframe thead th {\n",
       "        text-align: right;\n",
       "    }\n",
       "</style>\n",
       "<table border=\"1\" class=\"dataframe\">\n",
       "  <thead>\n",
       "    <tr style=\"text-align: right;\">\n",
       "      <th></th>\n",
       "      <th>Library_Name</th>\n",
       "      <th>URL</th>\n",
       "    </tr>\n",
       "  </thead>\n",
       "  <tbody>\n",
       "    <tr>\n",
       "      <th>0</th>\n",
       "      <td>伊莱图书馆(天河中心)</td>\n",
       "      <td>https://www.dianping.com/shop/k6nI8EcSZwFF8oxn</td>\n",
       "    </tr>\n",
       "    <tr>\n",
       "      <th>1</th>\n",
       "      <td>巴黎1区国际艺教连锁(南沙校区)</td>\n",
       "      <td>https://www.dianping.com/shop/l212CiA7jkca6DbL</td>\n",
       "    </tr>\n",
       "    <tr>\n",
       "      <th>2</th>\n",
       "      <td>丸丸本本(太阳新天地店)</td>\n",
       "      <td>https://www.dianping.com/shop/G8jKqpzpyIbnzGO5</td>\n",
       "    </tr>\n",
       "    <tr>\n",
       "      <th>3</th>\n",
       "      <td>绘悦·Sky艺术画室</td>\n",
       "      <td>https://www.dianping.com/shop/H3ubGvKratlQOGqS</td>\n",
       "    </tr>\n",
       "    <tr>\n",
       "      <th>4</th>\n",
       "      <td>YOUBETTER优贝乐托育·早教(从化校区)</td>\n",
       "      <td>https://www.dianping.com/shop/H8dqiPf2NGz3nFpK</td>\n",
       "    </tr>\n",
       "    <tr>\n",
       "      <th>5</th>\n",
       "      <td>YOUBETTER优贝乐托育·早教(桥南校区)</td>\n",
       "      <td>https://www.dianping.com/shop/l8rHd4iStymPQVr8</td>\n",
       "    </tr>\n",
       "    <tr>\n",
       "      <th>6</th>\n",
       "      <td>5+2儿童创意中心乐高机器人(锦麟万博乐高天地校区)</td>\n",
       "      <td>https://www.dianping.com/shop/k7j5Mys5C8Iv2vZs</td>\n",
       "    </tr>\n",
       "    <tr>\n",
       "      <th>7</th>\n",
       "      <td>海豚悠优阅读早教</td>\n",
       "      <td>https://www.dianping.com/shop/HackwYMYJgKztpUs</td>\n",
       "    </tr>\n",
       "    <tr>\n",
       "      <th>8</th>\n",
       "      <td>Dora Play哆啦英式戏剧(东骏广场校区)</td>\n",
       "      <td>https://www.dianping.com/shop/k2Dj6rVonZYCp5f0</td>\n",
       "    </tr>\n",
       "    <tr>\n",
       "      <th>9</th>\n",
       "      <td>YOUBETTER优贝乐托育·早教(华景新城校区)</td>\n",
       "      <td>https://www.dianping.com/shop/l3gA37dW6jzERIQ4</td>\n",
       "    </tr>\n",
       "    <tr>\n",
       "      <th>10</th>\n",
       "      <td>伊莱图书馆(滨江店)</td>\n",
       "      <td>https://www.dianping.com/shop/k1nC59W3ZrhiKnhH</td>\n",
       "    </tr>\n",
       "    <tr>\n",
       "      <th>11</th>\n",
       "      <td>育童玉美·戏剧·绘本·演讲(海珠分店)</td>\n",
       "      <td>https://www.dianping.com/shop/G25rxe56gyVX7w76</td>\n",
       "    </tr>\n",
       "    <tr>\n",
       "      <th>12</th>\n",
       "      <td>小鲸家亲子绘玩馆</td>\n",
       "      <td>https://www.dianping.com/shop/k2bHZOcLZGtBSrKh</td>\n",
       "    </tr>\n",
       "    <tr>\n",
       "      <th>13</th>\n",
       "      <td>谦百家学园</td>\n",
       "      <td>https://www.dianping.com/shop/FvTsXs3fNyN7Xgfa</td>\n",
       "    </tr>\n",
       "    <tr>\n",
       "      <th>14</th>\n",
       "      <td>超绘玩·共享绘本玩具馆(合生广场店)</td>\n",
       "      <td>https://www.dianping.com/shop/l4odmwd9zbESOXTA</td>\n",
       "    </tr>\n",
       "  </tbody>\n",
       "</table>\n",
       "</div>"
      ],
      "text/plain": [
       "                  Library_Name                                             URL\n",
       "0                  伊莱图书馆(天河中心)  https://www.dianping.com/shop/k6nI8EcSZwFF8oxn\n",
       "1             巴黎1区国际艺教连锁(南沙校区)  https://www.dianping.com/shop/l212CiA7jkca6DbL\n",
       "2                 丸丸本本(太阳新天地店)  https://www.dianping.com/shop/G8jKqpzpyIbnzGO5\n",
       "3                   绘悦·Sky艺术画室  https://www.dianping.com/shop/H3ubGvKratlQOGqS\n",
       "4      YOUBETTER优贝乐托育·早教(从化校区)  https://www.dianping.com/shop/H8dqiPf2NGz3nFpK\n",
       "5      YOUBETTER优贝乐托育·早教(桥南校区)  https://www.dianping.com/shop/l8rHd4iStymPQVr8\n",
       "6   5+2儿童创意中心乐高机器人(锦麟万博乐高天地校区)  https://www.dianping.com/shop/k7j5Mys5C8Iv2vZs\n",
       "7                     海豚悠优阅读早教  https://www.dianping.com/shop/HackwYMYJgKztpUs\n",
       "8      Dora Play哆啦英式戏剧(东骏广场校区)  https://www.dianping.com/shop/k2Dj6rVonZYCp5f0\n",
       "9    YOUBETTER优贝乐托育·早教(华景新城校区)  https://www.dianping.com/shop/l3gA37dW6jzERIQ4\n",
       "10                  伊莱图书馆(滨江店)  https://www.dianping.com/shop/k1nC59W3ZrhiKnhH\n",
       "11         育童玉美·戏剧·绘本·演讲(海珠分店)  https://www.dianping.com/shop/G25rxe56gyVX7w76\n",
       "12                    小鲸家亲子绘玩馆  https://www.dianping.com/shop/k2bHZOcLZGtBSrKh\n",
       "13                       谦百家学园  https://www.dianping.com/shop/FvTsXs3fNyN7Xgfa\n",
       "14          超绘玩·共享绘本玩具馆(合生广场店)  https://www.dianping.com/shop/l4odmwd9zbESOXTA"
      ]
     },
     "execution_count": 19,
     "metadata": {},
     "output_type": "execute_result"
    }
   ],
   "source": [
    "city_lib =pd.DataFrame({'Library_Name':LibName,'URL': SubURL}) \n",
    "shop_lib = city_lib[city_lib['URL'].str.contains(\"shop\")].reset_index(drop = True)\n",
    "shop_lib"
   ]
  },
  {
   "cell_type": "code",
   "execution_count": 20,
   "metadata": {},
   "outputs": [
    {
     "name": "stderr",
     "output_type": "stream",
     "text": [
      "<ipython-input-11-f9d2486382a1>:8: DeprecationWarning: use options instead of chrome_options\n",
      "  driver = selenium.webdriver.Chrome(chrome_options=options)\n"
     ]
    },
    {
     "name": "stdout",
     "output_type": "stream",
     "text": [
      "Scraping from https://www.dianping.com/shop/k6nI8EcSZwFF8oxn\n",
      "Scraping from https://www.dianping.com/shop/l212CiA7jkca6DbL\n",
      "Scraping from https://www.dianping.com/shop/G8jKqpzpyIbnzGO5\n",
      "Scraping from https://www.dianping.com/shop/H3ubGvKratlQOGqS\n",
      "Scraping from https://www.dianping.com/shop/H8dqiPf2NGz3nFpK\n",
      "Scraping from https://www.dianping.com/shop/l8rHd4iStymPQVr8\n",
      "Scraping from https://www.dianping.com/shop/k7j5Mys5C8Iv2vZs\n",
      "Scraping from https://www.dianping.com/shop/HackwYMYJgKztpUs\n",
      "Scraping from https://www.dianping.com/shop/k2Dj6rVonZYCp5f0\n",
      "Scraping from https://www.dianping.com/shop/l3gA37dW6jzERIQ4\n",
      "Scraping from https://www.dianping.com/shop/k1nC59W3ZrhiKnhH\n",
      "Scraping from https://www.dianping.com/shop/G25rxe56gyVX7w76\n",
      "Scraping from https://www.dianping.com/shop/k2bHZOcLZGtBSrKh\n",
      "Scraping from https://www.dianping.com/shop/FvTsXs3fNyN7Xgfa\n",
      "Scraping from https://www.dianping.com/shop/l4odmwd9zbESOXTA\n"
     ]
    }
   ],
   "source": [
    "subpage_soup = []\n",
    "for i in range(0,len(shop_lib)):\n",
    "    subpage_soup.append(BeautifulSoup(getHtmlContent(url = shop_lib['URL'][i]), \"html.parser\"))\n",
    "    time.sleep(randint(1,2))"
   ]
  },
  {
   "cell_type": "code",
   "execution_count": 27,
   "metadata": {},
   "outputs": [],
   "source": [
    "#subpage_soup[7]"
   ]
  },
  {
   "cell_type": "code",
   "execution_count": 51,
   "metadata": {},
   "outputs": [],
   "source": [
    "AddressList = []\n",
    "HourList = []\n",
    "PhoneNumList = []\n"
   ]
  },
  {
   "cell_type": "code",
   "execution_count": 52,
   "metadata": {},
   "outputs": [],
   "source": [
    "for soup in subpage_soup:\n",
    "    div = soup.find_all(class_ = \"address\")\n",
    "    AddressList.append(div[0].find_all(text=True, recursive=False)[1].strip())"
   ]
  },
  {
   "cell_type": "code",
   "execution_count": 53,
   "metadata": {},
   "outputs": [
    {
     "data": {
      "text/plain": [
       "['东泰社区鸿福东路1号民盈国贸城5号楼',\n",
       " '万达广场万达百货',\n",
       " '莞太路旺南奥特莱斯3楼303室',\n",
       " '南城区西平联景大厦3楼',\n",
       " '世博广场D区2楼',\n",
       " '香园路33号摩天艺术中心2楼',\n",
       " '东纵大道8号3楼',\n",
       " '东莞市南城区第一国际财富中心博学城二层',\n",
       " '凤岗镇昌盛南路35号四楼',\n",
       " '体育路都汇大厦602',\n",
       " '未来世界花园169号',\n",
       " '莲峰北路沃多夫风临公馆3楼',\n",
       " '龙城一路汇星商业中心5栋1606室',\n",
       " '东昇路石井综合楼2号楼3楼',\n",
       " '东纵路莞城段2号3004室']"
      ]
     },
     "execution_count": 53,
     "metadata": {},
     "output_type": "execute_result"
    }
   ],
   "source": [
    "AddressList"
   ]
  },
  {
   "cell_type": "code",
   "execution_count": 54,
   "metadata": {},
   "outputs": [],
   "source": [
    "for soup in subpage_soup:\n",
    "    hour_tag = soup.find(class_ = \"mod shop-info\")\n",
    "    if hour_tag is not None:\n",
    "       for li in hour_tag.find_all('li'):\n",
    "         for span in li.find_all('span'): \n",
    "            match = span.text \n",
    "            if match == \"营业时间\":\n",
    "                str = li.find_all(text=True, recursive=False)[1].strip().replace(\"\\n\", \" \")\n",
    "                HourList.append(str) \n",
    "    else:\n",
    "         HourList.append(np.NaN)\n"
   ]
  },
  {
   "cell_type": "code",
   "execution_count": 55,
   "metadata": {},
   "outputs": [
    {
     "data": {
      "text/plain": [
       "['周一至周日 10:00-20:00',\n",
       " '周一至周日 10:00-20:00',\n",
       " '周一,周三至周日 09:00-18:00',\n",
       " '周一至周日 08:00-18:00',\n",
       " '周一至周日 08:00-20:00',\n",
       " '周一至周日 08:30-12:00 14:30-18:30',\n",
       " '周一至周日 10:00-22:00',\n",
       " '周六,周日 08:30-18:30  周三至周五 09:00-21:00',\n",
       " '周二至周五 14:00-20:00  周六,周日 10:00-18:30',\n",
       " '周六,周日 08:00-21:00  周一至周五 14:00-21:00',\n",
       " '周二至周日 09:30-18:00',\n",
       " '周一至周日 08:00-18:00',\n",
       " '周一至周日 10:00-22:00',\n",
       " '周二至周日 09:00-21:00',\n",
       " '周一至周日 10:00-22:00']"
      ]
     },
     "execution_count": 55,
     "metadata": {},
     "output_type": "execute_result"
    }
   ],
   "source": [
    "HourList"
   ]
  },
  {
   "cell_type": "code",
   "execution_count": 56,
   "metadata": {},
   "outputs": [],
   "source": [
    "for soup in subpage_soup: \n",
    "    phone_tag = soup.find(class_ = \"phone\")\n",
    "    if phone_tag is not None:\n",
    "        phonenum = phone_tag.find('span')\n",
    "        PhoneNumList.append(phonenum['data-phone'])\n",
    "    else: \n",
    "        PhoneNumList.append(np.NaN)"
   ]
  },
  {
   "cell_type": "code",
   "execution_count": 57,
   "metadata": {},
   "outputs": [
    {
     "data": {
      "text/plain": [
       "['15907552646',\n",
       " '15907552646',\n",
       " '4000303096-04603',\n",
       " '4000303096-87514',\n",
       " '4000303096-26351',\n",
       " '4000303096-27917',\n",
       " '4000303096-00006',\n",
       " '18929227556',\n",
       " '15820888755',\n",
       " '4000303096-36220',\n",
       " '13377700884',\n",
       " '16507690768',\n",
       " '0769-81823888',\n",
       " '13922931039',\n",
       " '0769-21661849']"
      ]
     },
     "execution_count": 57,
     "metadata": {},
     "output_type": "execute_result"
    }
   ],
   "source": [
    "PhoneNumList"
   ]
  },
  {
   "cell_type": "code",
   "execution_count": 58,
   "metadata": {},
   "outputs": [
    {
     "data": {
      "text/html": [
       "<div>\n",
       "<style scoped>\n",
       "    .dataframe tbody tr th:only-of-type {\n",
       "        vertical-align: middle;\n",
       "    }\n",
       "\n",
       "    .dataframe tbody tr th {\n",
       "        vertical-align: top;\n",
       "    }\n",
       "\n",
       "    .dataframe thead th {\n",
       "        text-align: right;\n",
       "    }\n",
       "</style>\n",
       "<table border=\"1\" class=\"dataframe\">\n",
       "  <thead>\n",
       "    <tr style=\"text-align: right;\">\n",
       "      <th></th>\n",
       "      <th>Library_Name</th>\n",
       "      <th>URL</th>\n",
       "      <th>Address</th>\n",
       "      <th>Business_Hour</th>\n",
       "      <th>Phone_Number</th>\n",
       "    </tr>\n",
       "  </thead>\n",
       "  <tbody>\n",
       "    <tr>\n",
       "      <th>0</th>\n",
       "      <td>博沃思·专注力·心理咨询·家庭教育(东城中心)</td>\n",
       "      <td>https://www.dianping.com/shop/l9aKfsT5ai99979f</td>\n",
       "      <td>东泰社区鸿福东路1号民盈国贸城5号楼</td>\n",
       "      <td>周一至周日 10:00-20:00</td>\n",
       "      <td>15907552646</td>\n",
       "    </tr>\n",
       "    <tr>\n",
       "      <th>1</th>\n",
       "      <td>博沃思注意力心理咨询(南城民盈国贸校区)</td>\n",
       "      <td>https://www.dianping.com/shop/l3rGpmYP8Pmi2Y7c</td>\n",
       "      <td>万达广场万达百货</td>\n",
       "      <td>周一至周日 10:00-20:00</td>\n",
       "      <td>15907552646</td>\n",
       "    </tr>\n",
       "    <tr>\n",
       "      <th>2</th>\n",
       "      <td>巧虎KIDS成长中心(南城旺南奥特莱斯校区)</td>\n",
       "      <td>https://www.dianping.com/shop/kafJm0OSb07Rb0QP</td>\n",
       "      <td>莞太路旺南奥特莱斯3楼303室</td>\n",
       "      <td>周一,周三至周日 09:00-18:00</td>\n",
       "      <td>4000303096-04603</td>\n",
       "    </tr>\n",
       "    <tr>\n",
       "      <th>3</th>\n",
       "      <td>棒吉拉国际早教(东城世博校区)</td>\n",
       "      <td>https://www.dianping.com/shop/k8O23jycCAlNs1BD</td>\n",
       "      <td>南城区西平联景大厦3楼</td>\n",
       "      <td>周一至周日 08:00-18:00</td>\n",
       "      <td>4000303096-87514</td>\n",
       "    </tr>\n",
       "    <tr>\n",
       "      <th>4</th>\n",
       "      <td>棒吉拉国际早教(南城联景校区)</td>\n",
       "      <td>https://www.dianping.com/shop/k2cncDNeqiZbMhzy</td>\n",
       "      <td>世博广场D区2楼</td>\n",
       "      <td>周一至周日 08:00-20:00</td>\n",
       "      <td>4000303096-26351</td>\n",
       "    </tr>\n",
       "    <tr>\n",
       "      <th>5</th>\n",
       "      <td>棒吉拉国际早教中心(金域华府店)</td>\n",
       "      <td>https://www.dianping.com/shop/l36ITBGXABzNElMs</td>\n",
       "      <td>香园路33号摩天艺术中心2楼</td>\n",
       "      <td>周一至周日 08:30-12:00 14:30-18:30</td>\n",
       "      <td>4000303096-27917</td>\n",
       "    </tr>\n",
       "    <tr>\n",
       "      <th>6</th>\n",
       "      <td>上语书田(莞城店)</td>\n",
       "      <td>https://www.dianping.com/shop/G7gsOAQ43tvVJmtC</td>\n",
       "      <td>东纵大道8号3楼</td>\n",
       "      <td>周一至周日 10:00-22:00</td>\n",
       "      <td>4000303096-00006</td>\n",
       "    </tr>\n",
       "    <tr>\n",
       "      <th>7</th>\n",
       "      <td>书鲸阅读海洋第一国际校区</td>\n",
       "      <td>https://www.dianping.com/shop/i7Ylg8PjQrAWZeR1</td>\n",
       "      <td>东莞市南城区第一国际财富中心博学城二层</td>\n",
       "      <td>周六,周日 08:30-18:30  周三至周五 09:00-21:00</td>\n",
       "      <td>18929227556</td>\n",
       "    </tr>\n",
       "    <tr>\n",
       "      <th>8</th>\n",
       "      <td>橘子绘本馆</td>\n",
       "      <td>https://www.dianping.com/shop/kaue1mlrFmTq7Nas</td>\n",
       "      <td>凤岗镇昌盛南路35号四楼</td>\n",
       "      <td>周二至周五 14:00-20:00  周六,周日 10:00-18:30</td>\n",
       "      <td>15820888755</td>\n",
       "    </tr>\n",
       "    <tr>\n",
       "      <th>9</th>\n",
       "      <td>海洋国际双语阅读馆</td>\n",
       "      <td>https://www.dianping.com/shop/H88gFr4Ts770cgQu</td>\n",
       "      <td>体育路都汇大厦602</td>\n",
       "      <td>周六,周日 08:00-21:00  周一至周五 14:00-21:00</td>\n",
       "      <td>4000303096-36220</td>\n",
       "    </tr>\n",
       "    <tr>\n",
       "      <th>10</th>\n",
       "      <td>狮心绘童书馆</td>\n",
       "      <td>https://www.dianping.com/shop/k6MKgQpmRZWbOq5C</td>\n",
       "      <td>未来世界花园169号</td>\n",
       "      <td>周二至周日 09:30-18:00</td>\n",
       "      <td>13377700884</td>\n",
       "    </tr>\n",
       "    <tr>\n",
       "      <th>11</th>\n",
       "      <td>众德蒙台梭利儿童之家</td>\n",
       "      <td>https://www.dianping.com/shop/k2WSnqVHtsiJQmvS</td>\n",
       "      <td>莲峰北路沃多夫风临公馆3楼</td>\n",
       "      <td>周一至周日 08:00-18:00</td>\n",
       "      <td>16507690768</td>\n",
       "    </tr>\n",
       "    <tr>\n",
       "      <th>12</th>\n",
       "      <td>中传北广青少儿语言艺术中心(石龙汇星校区)</td>\n",
       "      <td>https://www.dianping.com/shop/i4rmxT0rd4UE3Uf7</td>\n",
       "      <td>龙城一路汇星商业中心5栋1606室</td>\n",
       "      <td>周一至周日 10:00-22:00</td>\n",
       "      <td>0769-81823888</td>\n",
       "    </tr>\n",
       "    <tr>\n",
       "      <th>13</th>\n",
       "      <td>天天向上早教中心·优米儿童绘本馆(东城旗舰店)</td>\n",
       "      <td>https://www.dianping.com/shop/G3KfqebaT0b2q48e</td>\n",
       "      <td>东昇路石井综合楼2号楼3楼</td>\n",
       "      <td>周二至周日 09:00-21:00</td>\n",
       "      <td>13922931039</td>\n",
       "    </tr>\n",
       "    <tr>\n",
       "      <th>14</th>\n",
       "      <td>约读书房(莞城地王广场店)</td>\n",
       "      <td>https://www.dianping.com/shop/H9fwqb0whByd7iPC</td>\n",
       "      <td>东纵路莞城段2号3004室</td>\n",
       "      <td>周一至周日 10:00-22:00</td>\n",
       "      <td>0769-21661849</td>\n",
       "    </tr>\n",
       "  </tbody>\n",
       "</table>\n",
       "</div>"
      ],
      "text/plain": [
       "               Library_Name                                             URL  \\\n",
       "0   博沃思·专注力·心理咨询·家庭教育(东城中心)  https://www.dianping.com/shop/l9aKfsT5ai99979f   \n",
       "1      博沃思注意力心理咨询(南城民盈国贸校区)  https://www.dianping.com/shop/l3rGpmYP8Pmi2Y7c   \n",
       "2    巧虎KIDS成长中心(南城旺南奥特莱斯校区)  https://www.dianping.com/shop/kafJm0OSb07Rb0QP   \n",
       "3           棒吉拉国际早教(东城世博校区)  https://www.dianping.com/shop/k8O23jycCAlNs1BD   \n",
       "4           棒吉拉国际早教(南城联景校区)  https://www.dianping.com/shop/k2cncDNeqiZbMhzy   \n",
       "5          棒吉拉国际早教中心(金域华府店)  https://www.dianping.com/shop/l36ITBGXABzNElMs   \n",
       "6                 上语书田(莞城店)  https://www.dianping.com/shop/G7gsOAQ43tvVJmtC   \n",
       "7              书鲸阅读海洋第一国际校区  https://www.dianping.com/shop/i7Ylg8PjQrAWZeR1   \n",
       "8                     橘子绘本馆  https://www.dianping.com/shop/kaue1mlrFmTq7Nas   \n",
       "9                 海洋国际双语阅读馆  https://www.dianping.com/shop/H88gFr4Ts770cgQu   \n",
       "10                   狮心绘童书馆  https://www.dianping.com/shop/k6MKgQpmRZWbOq5C   \n",
       "11               众德蒙台梭利儿童之家  https://www.dianping.com/shop/k2WSnqVHtsiJQmvS   \n",
       "12    中传北广青少儿语言艺术中心(石龙汇星校区)  https://www.dianping.com/shop/i4rmxT0rd4UE3Uf7   \n",
       "13  天天向上早教中心·优米儿童绘本馆(东城旗舰店)  https://www.dianping.com/shop/G3KfqebaT0b2q48e   \n",
       "14            约读书房(莞城地王广场店)  https://www.dianping.com/shop/H9fwqb0whByd7iPC   \n",
       "\n",
       "                Address                         Business_Hour  \\\n",
       "0    东泰社区鸿福东路1号民盈国贸城5号楼                     周一至周日 10:00-20:00   \n",
       "1              万达广场万达百货                     周一至周日 10:00-20:00   \n",
       "2       莞太路旺南奥特莱斯3楼303室                  周一,周三至周日 09:00-18:00   \n",
       "3           南城区西平联景大厦3楼                     周一至周日 08:00-18:00   \n",
       "4              世博广场D区2楼                     周一至周日 08:00-20:00   \n",
       "5        香园路33号摩天艺术中心2楼         周一至周日 08:30-12:00 14:30-18:30   \n",
       "6              东纵大道8号3楼                     周一至周日 10:00-22:00   \n",
       "7   东莞市南城区第一国际财富中心博学城二层  周六,周日 08:30-18:30  周三至周五 09:00-21:00   \n",
       "8          凤岗镇昌盛南路35号四楼  周二至周五 14:00-20:00  周六,周日 10:00-18:30   \n",
       "9            体育路都汇大厦602  周六,周日 08:00-21:00  周一至周五 14:00-21:00   \n",
       "10           未来世界花园169号                     周二至周日 09:30-18:00   \n",
       "11        莲峰北路沃多夫风临公馆3楼                     周一至周日 08:00-18:00   \n",
       "12    龙城一路汇星商业中心5栋1606室                     周一至周日 10:00-22:00   \n",
       "13        东昇路石井综合楼2号楼3楼                     周二至周日 09:00-21:00   \n",
       "14        东纵路莞城段2号3004室                     周一至周日 10:00-22:00   \n",
       "\n",
       "        Phone_Number  \n",
       "0        15907552646  \n",
       "1        15907552646  \n",
       "2   4000303096-04603  \n",
       "3   4000303096-87514  \n",
       "4   4000303096-26351  \n",
       "5   4000303096-27917  \n",
       "6   4000303096-00006  \n",
       "7        18929227556  \n",
       "8        15820888755  \n",
       "9   4000303096-36220  \n",
       "10       13377700884  \n",
       "11       16507690768  \n",
       "12     0769-81823888  \n",
       "13       13922931039  \n",
       "14     0769-21661849  "
      ]
     },
     "execution_count": 58,
     "metadata": {},
     "output_type": "execute_result"
    }
   ],
   "source": [
    "shop_lib['Address'] = AddressList\n",
    "shop_lib['Business_Hour'] = HourList\n",
    "shop_lib['Phone_Number'] = PhoneNumList\n",
    "shop_lib"
   ]
  },
  {
   "cell_type": "code",
   "execution_count": 76,
   "metadata": {},
   "outputs": [],
   "source": [
    "#Summarized the above code into a function\n",
    "def parse_info_citylib(URL):\n",
    "    HTML = getHtmlContent(URL)\n",
    "    soup = BeautifulSoup(HTML, \"html.parser\")\n",
    "    \n",
    "    SubURL = []\n",
    "    LibName = []\n",
    "    for div in soup.find_all(class_ = \"tit\"):\n",
    "        for a in div.find_all('a', href = True):\n",
    "            SubURL.append(a.get('href'))\n",
    "            LibName.append(a.getText().strip())\n",
    "    \n",
    "    city_lib =pd.DataFrame({'Library_Name':LibName,'URL': SubURL}) \n",
    "    shop_lib = city_lib[city_lib['URL'].str.contains(\"shop\")].reset_index(drop = True)\n",
    "\n",
    "\n",
    "\n",
    "\n",
    "    subpage_soup = []\n",
    "    for i in range(0,len(shop_lib)): #Need to change this part\n",
    "        subpage_soup.append(BeautifulSoup(getHtmlContent(url = shop_lib['URL'][i]), \"html.parser\"))\n",
    "        time.sleep(randint(1,2))\n",
    "\n",
    "    AddressList = []\n",
    "    HourList = []\n",
    "    PhoneNumList = []\n",
    "\n",
    "    for soup in subpage_soup:\n",
    "        div = soup.find_all(class_ = \"address\")\n",
    "        AddressList.append(div[0].find_all(text=True, recursive=False)[1].strip())\n",
    "    \n",
    "    for soup in subpage_soup:\n",
    "        hour_tag = soup.find(class_ = \"mod shop-info\")\n",
    "        if hour_tag is not None:\n",
    "            for li in hour_tag.find_all('li'):\n",
    "                for span in li.find_all('span'): \n",
    "                    match = span.text \n",
    "                    if match == \"营业时间\":\n",
    "                        str = li.find_all(text=True, recursive=False)[1].strip().replace(\"\\n\", \" \")\n",
    "                        HourList.append(str) \n",
    "        else:\n",
    "            HourList.append(np.NaN)\n",
    "    \n",
    "    for soup in subpage_soup:\n",
    "        phone_tag = soup.find(class_ = \"phone\")\n",
    "        if phone_tag is not None:\n",
    "            phonenum = phone_tag.find('span')\n",
    "            PhoneNumList.append(phonenum['data-phone'])\n",
    "        else: \n",
    "            PhoneNumList.append(np.NaN)\n",
    "            \n",
    "    shop_lib['Address'] = AddressList\n",
    "    shop_lib['Business_Hour'] = HourList\n",
    "    shop_lib['Phone_Number'] = PhoneNumList\n",
    "\n",
    "\n",
    "    return shop_lib"
   ]
  },
  {
   "cell_type": "code",
   "execution_count": 77,
   "metadata": {},
   "outputs": [
    {
     "data": {
      "text/plain": [
       "'http://www.dianping.com/anshan/ch75/g34311'"
      ]
     },
     "execution_count": 77,
     "metadata": {},
     "output_type": "execute_result"
    }
   ],
   "source": [
    "Second_URL=\"http://\"+ city['URL'][1]\n",
    "Second_URL"
   ]
  },
  {
   "cell_type": "code",
   "execution_count": 78,
   "metadata": {},
   "outputs": [
    {
     "name": "stdout",
     "output_type": "stream",
     "text": [
      "Scraping from http://www.dianping.com/anshan/ch75/g34311\n",
      "Scraping from https://www.dianping.com/shop/G7NqN7b6XuDR1Av9\n",
      "Scraping from https://www.dianping.com/shop/jKWN2u1yfFov84SD\n",
      "Scraping from https://www.dianping.com/shop/l7uvWW0qRkpJajex\n",
      "Scraping from https://www.dianping.com/shop/H5t9xip4GPLuIlNt\n",
      "Scraping from https://www.dianping.com/shop/G64Zmx3FjlgEZzJp\n",
      "Scraping from https://www.dianping.com/shop/jVQ42SQoGAhH3HC4\n",
      "Scraping from https://www.dianping.com/shop/H2hW0bGhmUci0kDT\n"
     ]
    }
   ],
   "source": [
    "lib_info = parse_info_citylib(Second_URL)"
   ]
  },
  {
   "cell_type": "code",
   "execution_count": 79,
   "metadata": {},
   "outputs": [
    {
     "data": {
      "text/html": [
       "<div>\n",
       "<style scoped>\n",
       "    .dataframe tbody tr th:only-of-type {\n",
       "        vertical-align: middle;\n",
       "    }\n",
       "\n",
       "    .dataframe tbody tr th {\n",
       "        vertical-align: top;\n",
       "    }\n",
       "\n",
       "    .dataframe thead th {\n",
       "        text-align: right;\n",
       "    }\n",
       "</style>\n",
       "<table border=\"1\" class=\"dataframe\">\n",
       "  <thead>\n",
       "    <tr style=\"text-align: right;\">\n",
       "      <th></th>\n",
       "      <th>Library_Name</th>\n",
       "      <th>URL</th>\n",
       "      <th>Address</th>\n",
       "      <th>Business_Hour</th>\n",
       "      <th>Phone_Number</th>\n",
       "    </tr>\n",
       "  </thead>\n",
       "  <tbody>\n",
       "    <tr>\n",
       "      <th>0</th>\n",
       "      <td>盛文绘本馆</td>\n",
       "      <td>https://www.dianping.com/shop/G7NqN7b6XuDR1Av9</td>\n",
       "      <td>二一九路26号</td>\n",
       "      <td>NaN</td>\n",
       "      <td>NaN</td>\n",
       "    </tr>\n",
       "    <tr>\n",
       "      <th>1</th>\n",
       "      <td>花瓣绘本馆</td>\n",
       "      <td>https://www.dianping.com/shop/jKWN2u1yfFov84SD</td>\n",
       "      <td>自由街劳动大厦北50米</td>\n",
       "      <td>周二至周日 10:00-13:00 13:30-18:30</td>\n",
       "      <td>15998001940</td>\n",
       "    </tr>\n",
       "    <tr>\n",
       "      <th>2</th>\n",
       "      <td>啄木鸟</td>\n",
       "      <td>https://www.dianping.com/shop/l7uvWW0qRkpJajex</td>\n",
       "      <td>景子街华润万家超市负一层</td>\n",
       "      <td>周一至周日 09:00-21:00</td>\n",
       "      <td>NaN</td>\n",
       "    </tr>\n",
       "    <tr>\n",
       "      <th>3</th>\n",
       "      <td>兰可琪绘本美学生活馆</td>\n",
       "      <td>https://www.dianping.com/shop/H5t9xip4GPLuIlNt</td>\n",
       "      <td>工人街30栋向阳小学东30米</td>\n",
       "      <td>周一至周日 10:00-22:00</td>\n",
       "      <td>15604229606</td>\n",
       "    </tr>\n",
       "    <tr>\n",
       "      <th>4</th>\n",
       "      <td>不点的小书库(鞍山大悦城店)</td>\n",
       "      <td>https://www.dianping.com/shop/G64Zmx3FjlgEZzJp</td>\n",
       "      <td>胜利北路302号鞍山大悦城F4层</td>\n",
       "      <td>NaN</td>\n",
       "      <td>13609819477</td>\n",
       "    </tr>\n",
       "    <tr>\n",
       "      <th>5</th>\n",
       "      <td>啄木鸟</td>\n",
       "      <td>https://www.dianping.com/shop/jVQ42SQoGAhH3HC4</td>\n",
       "      <td>新昌大街西50米</td>\n",
       "      <td>周一至周日 09:00-21:00</td>\n",
       "      <td>15941245428</td>\n",
       "    </tr>\n",
       "    <tr>\n",
       "      <th>6</th>\n",
       "      <td>布朗熊亲子绘本馆</td>\n",
       "      <td>https://www.dianping.com/shop/H2hW0bGhmUci0kDT</td>\n",
       "      <td>新东三街与新东二街交叉口东北260米</td>\n",
       "      <td>周一至周日 09:00-18:00</td>\n",
       "      <td>13566634575</td>\n",
       "    </tr>\n",
       "  </tbody>\n",
       "</table>\n",
       "</div>"
      ],
      "text/plain": [
       "     Library_Name                                             URL  \\\n",
       "0           盛文绘本馆  https://www.dianping.com/shop/G7NqN7b6XuDR1Av9   \n",
       "1           花瓣绘本馆  https://www.dianping.com/shop/jKWN2u1yfFov84SD   \n",
       "2             啄木鸟  https://www.dianping.com/shop/l7uvWW0qRkpJajex   \n",
       "3      兰可琪绘本美学生活馆  https://www.dianping.com/shop/H5t9xip4GPLuIlNt   \n",
       "4  不点的小书库(鞍山大悦城店)  https://www.dianping.com/shop/G64Zmx3FjlgEZzJp   \n",
       "5             啄木鸟  https://www.dianping.com/shop/jVQ42SQoGAhH3HC4   \n",
       "6        布朗熊亲子绘本馆  https://www.dianping.com/shop/H2hW0bGhmUci0kDT   \n",
       "\n",
       "              Address                  Business_Hour Phone_Number  \n",
       "0             二一九路26号                            NaN          NaN  \n",
       "1         自由街劳动大厦北50米  周二至周日 10:00-13:00 13:30-18:30  15998001940  \n",
       "2        景子街华润万家超市负一层              周一至周日 09:00-21:00          NaN  \n",
       "3      工人街30栋向阳小学东30米              周一至周日 10:00-22:00  15604229606  \n",
       "4    胜利北路302号鞍山大悦城F4层                            NaN  13609819477  \n",
       "5            新昌大街西50米              周一至周日 09:00-21:00  15941245428  \n",
       "6  新东三街与新东二街交叉口东北260米              周一至周日 09:00-18:00  13566634575  "
      ]
     },
     "execution_count": 79,
     "metadata": {},
     "output_type": "execute_result"
    }
   ],
   "source": [
    "lib_info"
   ]
  },
  {
   "cell_type": "code",
   "execution_count": null,
   "metadata": {},
   "outputs": [],
   "source": [
    "from pathlib import Path  \n",
    "for i in range(0, len(city)):\n",
    "    URL = \"http://\"+ city['URL'][i]\n",
    "    lib_info = parse_info_citylib(URL)\n",
    "    filepath = Path('/Users/jma/Documents/DianPing Webscraping')  \n",
    "    filepath.parent.mkdir(parents=True, exist_ok=True) \n",
    "    filename = city['city_name'][i] + '.csv'\n",
    "    lib_info.to_csv(filename, index = False, encoding='utf_8_sig')"
   ]
  }
 ],
 "metadata": {
  "kernelspec": {
   "display_name": "Python 3 (ipykernel)",
   "language": "python",
   "name": "python3"
  },
  "language_info": {
   "codemirror_mode": {
    "name": "ipython",
    "version": 3
   },
   "file_extension": ".py",
   "mimetype": "text/x-python",
   "name": "python",
   "nbconvert_exporter": "python",
   "pygments_lexer": "ipython3",
   "version": "3.8.8"
  },
  "vscode": {
   "interpreter": {
    "hash": "d7288e82646d3164eca24130947288f8779d11454649f2c02a5dfc42af7f324c"
   }
  }
 },
 "nbformat": 4,
 "nbformat_minor": 2
}
